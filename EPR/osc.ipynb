{
 "cells": [
  {
   "cell_type": "code",
   "execution_count": 1,
   "metadata": {},
   "outputs": [
    {
     "name": "stdout",
     "output_type": "stream",
     "text": [
      "Welcome to JupyROOT 6.22/08\n"
     ]
    }
   ],
   "source": [
    "import ROOT\n",
    "import numpy as np"
   ]
  },
  {
   "cell_type": "code",
   "execution_count": 9,
   "metadata": {},
   "outputs": [],
   "source": [
    "Watt = [5., 10., 15., 20., 25., 30., 35.]\n",
    "Watt = [10., 20., 30., 40., 50., 60., 70.]\n",
    "DC_v = [210., 500., 800., 1100., 1440., 1750., 2025.]\n",
    "\n",
    "Watt = np.array(Watt)\n",
    "DC_v = np.array(DC_v)"
   ]
  },
  {
   "cell_type": "code",
   "execution_count": 10,
   "metadata": {},
   "outputs": [
    {
     "name": "stdout",
     "output_type": "stream",
     "text": [
      "\n",
      "****************************************\n",
      "Minimizer is Linear / Migrad\n",
      "Chi2                      =      1370.54\n",
      "NDf                       =            5\n",
      "p0                        =     -108.571   +/-   13.9925     \n",
      "p1                        =      30.6607   +/-   0.312882    \n"
     ]
    },
    {
     "name": "stderr",
     "output_type": "stream",
     "text": [
      "Warning in <TCanvas::Constructor>: Deleting canvas with same name: c1\n"
     ]
    },
    {
     "data": {
      "image/png": "[encoded data removed]",
      "text/plain": [
       "<IPython.core.display.Image object>"
      ]
     },
     "metadata": {},
     "output_type": "display_data"
    }
   ],
   "source": [
    "gr = ROOT.TGraph(len(Watt), Watt, DC_v)\n",
    "gr_fit = ROOT.TF1(\"f\", \"pol1\", 5., 35.)\n",
    "gr.Fit(gr_fit, \"a\")\n",
    "c1 = ROOT.TCanvas(\"c1\", \"title\", 400, 400)\n",
    "gr.SetMarkerStyle(2)\n",
    "gr.SetMarkerSize(2)\n",
    "\n",
    "gr.Draw(\"AP\")\n",
    "c1.Draw()"
   ]
  },
  {
   "cell_type": "code",
   "execution_count": null,
   "metadata": {},
   "outputs": [],
   "source": []
  }
 ],
 "metadata": {
  "kernelspec": {
   "display_name": "Python 3",
   "language": "python",
   "name": "python3"
  },
  "language_info": {
   "codemirror_mode": {
    "name": "ipython",
    "version": 3
   },
   "file_extension": ".py",
   "mimetype": "text/x-python",
   "name": "python",
   "nbconvert_exporter": "python",
   "pygments_lexer": "ipython3",
   "version": "3.8.10"
  },
  "orig_nbformat": 4
 },
 "nbformat": 4,
 "nbformat_minor": 2
}
