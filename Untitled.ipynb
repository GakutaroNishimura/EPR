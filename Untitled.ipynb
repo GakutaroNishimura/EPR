{
 "cells": [
  {
   "cell_type": "code",
   "execution_count": 1,
   "id": "5dbfac5f",
   "metadata": {},
   "outputs": [
    {
     "name": "stdout",
     "output_type": "stream",
     "text": [
      "Welcome to JupyROOT 6.22/08\n"
     ]
    }
   ],
   "source": [
    "import ROOT"
   ]
  },
  {
   "cell_type": "code",
   "execution_count": 2,
   "id": "f93a77f5",
   "metadata": {},
   "outputs": [],
   "source": [
    "import pandas as pd\n",
    "import numpy as np\n",
    "import time"
   ]
  },
  {
   "cell_type": "code",
   "execution_count": 3,
   "id": "507bb9f5",
   "metadata": {},
   "outputs": [],
   "source": [
    "path_56to61 = \"./peak/56-61/\"\n",
    "df56 = pd.read_csv(\"./WaveData/scope_56.csv\", names = [\"time\", \"signal\", \"sync\"], skiprows = 2)\n",
    "df57 = pd.read_csv(\"./WaveData/scope_57.csv\", names = [\"time\", \"signal\", \"sync\"], skiprows = 2)\n",
    "df58 = pd.read_csv(\"./WaveData/scope_58.csv\", names = [\"time\", \"signal\", \"sync\"], skiprows = 2)\n",
    "df59 = pd.read_csv(\"./WaveData/scope_59.csv\", names = [\"time\", \"signal\", \"sync\"], skiprows = 2)\n",
    "df60 = pd.read_csv(\"./WaveData/scope_60.csv\", names = [\"time\", \"signal\", \"sync\"], skiprows = 2)\n",
    "df61 = pd.read_csv(\"./WaveData/scope_61.csv\", names = [\"time\", \"signal\", \"sync\"], skiprows = 2)\n",
    "df_bf = [df56]\n",
    "#df_bf = [df56, df57, df58]\n",
    "#df_af = [df59, df60, df61]"
   ]
  },
  {
   "cell_type": "code",
   "execution_count": 5,
   "id": "192a9b60",
   "metadata": {},
   "outputs": [],
   "source": [
    "peak_bf = []\n",
    "peak_af = []\n",
    "peak_ideal_bf = []\n",
    "peak_ideal_af = []\n",
    "EPR_freq_list = []\n",
    "EPR_freq_list_bf = []\n",
    "EPR_freq_list_af = []\n",
    "\n",
    "F_mod = 1000 #[Hz]\n",
    "F_dev = 700 #[kHz]\n",
    "F_0 = 7225 #[kHz]\n",
    "Npeak = 2\n",
    "Fit_Range = 0.0001\n",
    "canvasWidth = 600\n",
    "canvasHeight = 300"
   ]
  },
  {
   "cell_type": "code",
   "execution_count": 7,
   "id": "7ec9804e",
   "metadata": {},
   "outputs": [],
   "source": [
    "i = 0\n",
    "j = 0\n",
    "\n",
    "#Fit_center = 0.0005471147644754069-Npeak/2/F_mod+i/F_mod\n",
    "Fit_center = 0.000533512052921227-Npeak/2/F_mod+i/F_mod\n",
    "# create a TGraph with the data\n",
    "gr = ROOT.TGraph(len(df_bf[j].time), np.array(df_bf[j].time), np.array(df_bf[j].signal))"
   ]
  },
  {
   "cell_type": "code",
   "execution_count": 8,
   "id": "1473a673",
   "metadata": {},
   "outputs": [],
   "source": [
    "f = ROOT.TF1(\"f\", \"[0]-gaus(x, [1], [2], [3])\", Fit_center-Fit_Range, Fit_center+Fit_Range)"
   ]
  },
  {
   "cell_type": "code",
   "execution_count": 9,
   "id": "f40b2ef1",
   "metadata": {},
   "outputs": [
    {
     "name": "stdout",
     "output_type": "stream",
     "text": [
      "[-2.517432724606957e-05, 0.0031433746211918614, -0.000463804928257893, 5.7086831902216644e-05]\n"
     ]
    }
   ],
   "source": [
    "f.SetParameters(0, 0.003, Fit_center, 6*10**(-5))\n",
    "# perform the fit\n",
    "gr.Fit(f, \"QR\")\n",
    "# get the fitted parameters\n",
    "par = [f.GetParameter(k) for k in range(f.GetNpar())]\n",
    "print(par)"
   ]
  },
  {
   "cell_type": "code",
   "execution_count": 10,
   "id": "5dc6c1de",
   "metadata": {},
   "outputs": [],
   "source": [
    "gr_fit = ROOT.TGraph(1000, np.linspace(Fit_center-Fit_Range, Fit_center+Fit_Range, 1000), np.array([f.Eval(x, *par[1:]) for x in np.linspace(Fit_center-Fit_Range, Fit_center+Fit_Range, 1000)]))"
   ]
  },
  {
   "cell_type": "code",
   "execution_count": 11,
   "id": "f21ef24d",
   "metadata": {},
   "outputs": [
    {
     "name": "stderr",
     "output_type": "stream",
     "text": [
      "Info in <TCanvas::MakeDefCanvas>:  created default TCanvas with name c1\n"
     ]
    }
   ],
   "source": [
    "gr.SetMarkerStyle(1)\n",
    "gr.SetMarkerSize(2)\n",
    "#gr.GetXaxis().SetRangeUser(250., 500.)\n",
    "#gr.GetYaxis().SetRangeUser(0.98,1.02)\n",
    "gr.SetName(\"a\")\n",
    "gr.GetXaxis().CenterTitle(True)\n",
    "gr.GetXaxis().SetTitle(\"time\")\n",
    "gr.GetYaxis().CenterTitle(True)\n",
    "gr.GetYaxis().SetTitle(\"voltage\")\n",
    "gr.Draw(\"AP\")"
   ]
  },
  {
   "cell_type": "code",
   "execution_count": null,
   "id": "dd047fa8",
   "metadata": {},
   "outputs": [],
   "source": []
  }
 ],
 "metadata": {
  "kernelspec": {
   "display_name": "Python 3 (ipykernel)",
   "language": "python",
   "name": "python3"
  },
  "language_info": {
   "codemirror_mode": {
    "name": "ipython",
    "version": 3
   },
   "file_extension": ".py",
   "mimetype": "text/x-python",
   "name": "python",
   "nbconvert_exporter": "python",
   "pygments_lexer": "ipython3",
   "version": "3.8.10"
  }
 },
 "nbformat": 4,
 "nbformat_minor": 5
}
