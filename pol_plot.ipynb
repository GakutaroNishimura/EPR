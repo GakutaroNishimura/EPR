{
 "cells": [
  {
   "cell_type": "code",
   "execution_count": 1,
   "metadata": {},
   "outputs": [
    {
     "name": "stdout",
     "output_type": "stream",
     "text": [
      "Welcome to JupyROOT 6.26/06\n"
     ]
    }
   ],
   "source": [
    "import numpy as np\n",
    "import pandas as pd\n",
    "import ROOT"
   ]
  },
  {
   "cell_type": "code",
   "execution_count": 2,
   "metadata": {},
   "outputs": [],
   "source": [
    "df = pd.read_csv(\"pol1.csv\", names=[\"pol\", \"pol_dev\"], skiprows=1)\n",
    "\n",
    "df120 = df[:5]\n",
    "df110 = df[5:10]\n",
    "df100 = df[10:12]\n",
    "df90 = df[12:15]\n",
    "\n",
    "index = np.linspace(1.0, 15.0, len(df))"
   ]
  },
  {
   "cell_type": "code",
   "execution_count": 3,
   "metadata": {},
   "outputs": [],
   "source": [
    "N120 = len(df120.pol)\n",
    "N110 = len(df110.pol)\n",
    "N100 = len(df100.pol)\n",
    "N90 = len(df90.pol)"
   ]
  },
  {
   "cell_type": "code",
   "execution_count": 4,
   "metadata": {},
   "outputs": [
    {
     "data": {
      "image/png": "[encoded data removed]",
      "text/plain": [
       "<IPython.core.display.Image object>"
      ]
     },
     "metadata": {},
     "output_type": "display_data"
    }
   ],
   "source": [
    "c1 = ROOT.TCanvas(\"c1\", \"title\", 400, 400)\n",
    "gr = ROOT.TGraph(15, index, np.array(df.pol))\n",
    "gr120 = ROOT.TGraphErrors(N120, index[:5], np.array(df120.pol), np.array([0.0 for i in range(N120)]), np.array(df120.pol_dev))\n",
    "gr120.SetMarkerStyle(7)\n",
    "gr120.SetMarkerColor(ROOT.kRed)\n",
    "gr120.SetLineColor(ROOT.kRed)\n",
    "gr110 = ROOT.TGraphErrors(N110, index[5:10], np.array(df110.pol), np.array([0.0 for i in range(N110)]), np.array(df110.pol_dev))\n",
    "gr110.SetMarkerStyle(25)\n",
    "gr110.SetMarkerSize(0.5)\n",
    "gr110.SetMarkerColor(ROOT.kBlue)\n",
    "gr110.SetLineColor(ROOT.kBlue)\n",
    "gr100 = ROOT.TGraphErrors(N100, index[10:12], np.array(df100.pol), np.array([0.0 for i in range(N100)]), np.array(df100.pol_dev))\n",
    "gr100.SetMarkerStyle(22)\n",
    "gr100.SetMarkerColor(ROOT.kGreen)\n",
    "gr100.SetLineColor(ROOT.kGreen)\n",
    "gr90 = ROOT.TGraphErrors(N90, index[12:15], np.array(df90.pol), np.array([0.0 for i in range(N90)]), np.array(df90.pol_dev))\n",
    "gr90.SetMarkerStyle(21)\n",
    "gr90.SetMarkerSize(0.5)\n",
    "gr90.SetMarkerColor(ROOT.kMagenta)\n",
    "gr90.SetLineColor(ROOT.kMagenta)\n",
    "gr.SetMarkerStyle(1)\n",
    "gr.Draw(\"AP\")\n",
    "gr120.Draw(\"P\")\n",
    "gr110.Draw(\"P\")\n",
    "gr100.Draw(\"P\")\n",
    "gr90.Draw(\"P\")\n",
    "\n",
    "c1.Draw()"
   ]
  },
  {
   "cell_type": "code",
   "execution_count": 5,
   "metadata": {},
   "outputs": [
    {
     "data": {
      "text/html": [
       "<div>\n",
       "<style scoped>\n",
       "    .dataframe tbody tr th:only-of-type {\n",
       "        vertical-align: middle;\n",
       "    }\n",
       "\n",
       "    .dataframe tbody tr th {\n",
       "        vertical-align: top;\n",
       "    }\n",
       "\n",
       "    .dataframe thead th {\n",
       "        text-align: right;\n",
       "    }\n",
       "</style>\n",
       "<table border=\"1\" class=\"dataframe\">\n",
       "  <thead>\n",
       "    <tr style=\"text-align: right;\">\n",
       "      <th></th>\n",
       "      <th>pol</th>\n",
       "      <th>pol_dev</th>\n",
       "    </tr>\n",
       "  </thead>\n",
       "  <tbody>\n",
       "    <tr>\n",
       "      <th>0</th>\n",
       "      <td>1.273254</td>\n",
       "      <td>0.083554</td>\n",
       "    </tr>\n",
       "    <tr>\n",
       "      <th>1</th>\n",
       "      <td>1.428469</td>\n",
       "      <td>0.092473</td>\n",
       "    </tr>\n",
       "    <tr>\n",
       "      <th>2</th>\n",
       "      <td>1.248952</td>\n",
       "      <td>0.092443</td>\n",
       "    </tr>\n",
       "    <tr>\n",
       "      <th>3</th>\n",
       "      <td>1.672769</td>\n",
       "      <td>0.081486</td>\n",
       "    </tr>\n",
       "    <tr>\n",
       "      <th>4</th>\n",
       "      <td>1.469189</td>\n",
       "      <td>0.112788</td>\n",
       "    </tr>\n",
       "    <tr>\n",
       "      <th>5</th>\n",
       "      <td>2.719687</td>\n",
       "      <td>0.311671</td>\n",
       "    </tr>\n",
       "    <tr>\n",
       "      <th>6</th>\n",
       "      <td>3.125472</td>\n",
       "      <td>0.316261</td>\n",
       "    </tr>\n",
       "    <tr>\n",
       "      <th>7</th>\n",
       "      <td>2.935107</td>\n",
       "      <td>0.333154</td>\n",
       "    </tr>\n",
       "    <tr>\n",
       "      <th>8</th>\n",
       "      <td>3.398969</td>\n",
       "      <td>0.313515</td>\n",
       "    </tr>\n",
       "    <tr>\n",
       "      <th>9</th>\n",
       "      <td>2.524625</td>\n",
       "      <td>0.317552</td>\n",
       "    </tr>\n",
       "    <tr>\n",
       "      <th>10</th>\n",
       "      <td>4.358100</td>\n",
       "      <td>0.216735</td>\n",
       "    </tr>\n",
       "    <tr>\n",
       "      <th>11</th>\n",
       "      <td>4.700298</td>\n",
       "      <td>0.519654</td>\n",
       "    </tr>\n",
       "    <tr>\n",
       "      <th>12</th>\n",
       "      <td>6.039635</td>\n",
       "      <td>0.433972</td>\n",
       "    </tr>\n",
       "    <tr>\n",
       "      <th>13</th>\n",
       "      <td>5.483081</td>\n",
       "      <td>0.574234</td>\n",
       "    </tr>\n",
       "    <tr>\n",
       "      <th>14</th>\n",
       "      <td>6.633302</td>\n",
       "      <td>0.531052</td>\n",
       "    </tr>\n",
       "  </tbody>\n",
       "</table>\n",
       "</div>"
      ],
      "text/plain": [
       "         pol   pol_dev\n",
       "0   1.273254  0.083554\n",
       "1   1.428469  0.092473\n",
       "2   1.248952  0.092443\n",
       "3   1.672769  0.081486\n",
       "4   1.469189  0.112788\n",
       "5   2.719687  0.311671\n",
       "6   3.125472  0.316261\n",
       "7   2.935107  0.333154\n",
       "8   3.398969  0.313515\n",
       "9   2.524625  0.317552\n",
       "10  4.358100  0.216735\n",
       "11  4.700298  0.519654\n",
       "12  6.039635  0.433972\n",
       "13  5.483081  0.574234\n",
       "14  6.633302  0.531052"
      ]
     },
     "execution_count": 5,
     "metadata": {},
     "output_type": "execute_result"
    }
   ],
   "source": [
    "df"
   ]
  },
  {
   "cell_type": "code",
   "execution_count": null,
   "metadata": {},
   "outputs": [],
   "source": []
  }
 ],
 "metadata": {
  "kernelspec": {
   "display_name": "Python 3",
   "language": "python",
   "name": "python3"
  },
  "language_info": {
   "codemirror_mode": {
    "name": "ipython",
    "version": 3
   },
   "file_extension": ".py",
   "mimetype": "text/x-python",
   "name": "python",
   "nbconvert_exporter": "python",
   "pygments_lexer": "ipython3",
   "version": "3.10.12"
  },
  "orig_nbformat": 4
 },
 "nbformat": 4,
 "nbformat_minor": 2
}
