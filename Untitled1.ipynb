{
 "cells": [
  {
   "cell_type": "code",
   "execution_count": 3,
   "id": "3aa30f8c",
   "metadata": {},
   "outputs": [],
   "source": [
    "import pandas as pd\n",
    "import numpy as np\n",
    "import ROOT"
   ]
  },
  {
   "cell_type": "code",
   "execution_count": 4,
   "id": "1f6f5b4a",
   "metadata": {},
   "outputs": [],
   "source": [
    "df_noise = pd.read_csv(\"./WaveData/scope_64.csv\", names = [\"time\", \"signal\", \"monitor\", \"sync\", \"math\"], skiprows = 2)"
   ]
  },
  {
   "cell_type": "code",
   "execution_count": 5,
   "id": "f9725609",
   "metadata": {},
   "outputs": [],
   "source": [
    "gr = ROOT.TGraph(len(df_noise.time), np.array(df_noise.time), np.array(df_noise.signal))"
   ]
  },
  {
   "cell_type": "code",
   "execution_count": 6,
   "id": "df0e1d01",
   "metadata": {},
   "outputs": [
    {
     "name": "stderr",
     "output_type": "stream",
     "text": [
      "Info in <TCanvas::MakeDefCanvas>:  created default TCanvas with name c1\n"
     ]
    }
   ],
   "source": [
    "gr.Draw(\"AP\")"
   ]
  },
  {
   "cell_type": "code",
   "execution_count": null,
   "id": "927997e0",
   "metadata": {},
   "outputs": [],
   "source": [
    "c = "
   ]
  }
 ],
 "metadata": {
  "kernelspec": {
   "display_name": "Python 3 (ipykernel)",
   "language": "python",
   "name": "python3"
  },
  "language_info": {
   "codemirror_mode": {
    "name": "ipython",
    "version": 3
   },
   "file_extension": ".py",
   "mimetype": "text/x-python",
   "name": "python",
   "nbconvert_exporter": "python",
   "pygments_lexer": "ipython3",
   "version": "3.8.10"
  }
 },
 "nbformat": 4,
 "nbformat_minor": 5
}
