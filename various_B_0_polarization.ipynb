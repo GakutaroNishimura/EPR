{
 "cells": [
  {
   "cell_type": "code",
   "execution_count": 1,
   "metadata": {},
   "outputs": [],
   "source": [
    "import pandas as pd\n",
    "import matplotlib.pyplot as plt"
   ]
  },
  {
   "cell_type": "code",
   "execution_count": 2,
   "metadata": {},
   "outputs": [],
   "source": [
    "B_0_A = [0.10, 0.17, 0.27, 0.37, 0.47, 0.57, 0.67]\n",
    "B_0_G = [15*i/0.67 for i in B_0_A]\n",
    "EPRshifts = [7808.988489, 7058.028528, 7319.753578, 7589.728353, 7271.855095, 7078.050360, 7439.952379]\n",
    "EPRshift_dev = [410.259830, 332.084269, 156.211870, 454.752039, 388.451754, 231.444138, 327.649367]"
   ]
  },
  {
   "cell_type": "code",
   "execution_count": 3,
   "metadata": {},
   "outputs": [
    {
     "data": {
      "text/plain": [
       "<matplotlib.legend.Legend at 0x7fa98bcd9730>"
      ]
     },
     "execution_count": 3,
     "metadata": {},
     "output_type": "execute_result"
    },
    {
     "data": {
      "image/png": "[encoded data removed]",
      "text/plain": [
       "<Figure size 432x288 with 1 Axes>"
      ]
     },
     "metadata": {
      "needs_background": "light"
     },
     "output_type": "display_data"
    }
   ],
   "source": [
    "plt.errorbar(B_0_A, EPRshifts, EPRshift_dev, fmt = \".\", capsize=2, label=\"day1\")\n",
    "plt.errorbar(B_0_A[:4], EPRshifts[:4], EPRshift_dev[:4], fmt='r.', capsize=2, label=\"day2\")\n",
    "plt.xlabel(\"$B_0$ current [A]\")\n",
    "plt.ylabel(\"EPR freq. shift [Hz]\")\n",
    "plt.grid()\n",
    "plt.legend()"
   ]
  },
  {
   "cell_type": "code",
   "execution_count": 4,
   "metadata": {},
   "outputs": [
    {
     "data": {
      "image/png": "[encoded data removed]",
      "text/plain": [
       "<Figure size 432x288 with 1 Axes>"
      ]
     },
     "metadata": {
      "needs_background": "light"
     },
     "output_type": "display_data"
    }
   ],
   "source": [
    "plt.errorbar(B_0_G, EPRshifts, EPRshift_dev, fmt = \".\", capsize=2, label=\"day1\")\n",
    "plt.errorbar(B_0_G[:4], EPRshifts[:4], EPRshift_dev[:4], fmt='r.', capsize=2, label=\"day2\")\n",
    "plt.xlabel(\"$B_0$ [G]\")\n",
    "plt.ylabel(\"EPR freq. shift [Hz]\")\n",
    "plt.grid()"
   ]
  },
  {
   "cell_type": "code",
   "execution_count": 1,
   "metadata": {},
   "outputs": [],
   "source": [
    "T = 0 \n",
    "mu_0 = 1.25663*10**(-6)          #[m kg s^-2 A^-2]\n",
    "mu_B = 9.27401*10**(-24)         #[J T^-1] = [m^2 A]\n",
    "mu_He = -1.07461*10**(-26)       #[J T^-1] = [m^2 A]\n",
    "mu_N = 5.05078*10**(-27)\n",
    "mu_Xe_131 = 0.687020*mu_N\n",
    "mu_Xe_129 = -0.777960*mu_N\n",
    "g_I = -0.000293640\n",
    "g_e = -2.00231\n",
    "#g_J = 2.002332\n",
    "I = 5/2\n",
    "A = 1.01191*10**9                #[s^-1]\n",
    "He_num = 2.68678*3.3*10**25      #[m^-3]\n",
    "Xe_num = 5.88*10**3*6.02*10**23/131.3           #[m^-3]\n",
    "Xe_num = 3*0.264*5.88*10**3*6.02*10**23/131.3           #[m^-3]\n",
    "B = 1.5*10**(-3)                 #[T]\n",
    "kappa_Xe = 518\n",
    "h = 6.62607*10**(-34)  #[J s]"
   ]
  },
  {
   "cell_type": "code",
   "execution_count": 2,
   "metadata": {},
   "outputs": [],
   "source": [
    "def CalPol(EPRshifts, EPRshift_dev, B_0_G):\n",
    "    abs_Pol = 100*EPRshifts/(2*(2*mu_0/3)*(mu_B*g_e/(h*(2*I+1)))*(1-(8*I/(2*I+1)**2)*(mu_B*g_e*B/(h*A)))*kappa_Xe*mu_Xe_129*Xe_num)\n",
    "    abs_Pol_std = 100*EPRshift_dev/(2*(2*mu_0/3)*(mu_B*g_e/(h*(2*I+1)))*(1-(8*I/(2*I+1)**2)*(mu_B*g_e*B/(h*A)))*kappa_Xe*mu_Xe_129*Xe_num)\n",
    "\n",
    "    return abs_Pol, abs_Pol_std"
   ]
  },
  {
   "cell_type": "code",
   "execution_count": 8,
   "metadata": {},
   "outputs": [
    {
     "ename": "NameError",
     "evalue": "name 'EPRshifts' is not defined",
     "output_type": "error",
     "traceback": [
      "\u001b[0;31m---------------------------------------------------------------------------\u001b[0m",
      "\u001b[0;31mNameError\u001b[0m                                 Traceback (most recent call last)",
      "\u001b[1;32m/home/nishi_gaku/EPR_git/EPR/various_B_0_polarization.ipynb セル 7\u001b[0m in \u001b[0;36m<cell line: 4>\u001b[0;34m()\u001b[0m\n\u001b[1;32m      <a href='vscode-notebook-cell://wsl%2Bubuntu-20.04/home/nishi_gaku/EPR_git/EPR/various_B_0_polarization.ipynb#W6sdnNjb2RlLXJlbW90ZQ%3D%3D?line=0'>1</a>\u001b[0m pol_l \u001b[39m=\u001b[39m []\n\u001b[1;32m      <a href='vscode-notebook-cell://wsl%2Bubuntu-20.04/home/nishi_gaku/EPR_git/EPR/various_B_0_polarization.ipynb#W6sdnNjb2RlLXJlbW90ZQ%3D%3D?line=1'>2</a>\u001b[0m pol_dev_l \u001b[39m=\u001b[39m []\n\u001b[0;32m----> <a href='vscode-notebook-cell://wsl%2Bubuntu-20.04/home/nishi_gaku/EPR_git/EPR/various_B_0_polarization.ipynb#W6sdnNjb2RlLXJlbW90ZQ%3D%3D?line=3'>4</a>\u001b[0m \u001b[39mfor\u001b[39;00m i \u001b[39min\u001b[39;00m \u001b[39mrange\u001b[39m(\u001b[39mlen\u001b[39m(EPRshifts)):\n\u001b[1;32m      <a href='vscode-notebook-cell://wsl%2Bubuntu-20.04/home/nishi_gaku/EPR_git/EPR/various_B_0_polarization.ipynb#W6sdnNjb2RlLXJlbW90ZQ%3D%3D?line=4'>5</a>\u001b[0m     pol, pol_dev \u001b[39m=\u001b[39m CalPol(EPRshifts[i], EPRshift_dev[i], B_0_G[i]\u001b[39m/\u001b[39m\u001b[39m10\u001b[39m\u001b[39m*\u001b[39m\u001b[39m*\u001b[39m\u001b[39m4\u001b[39m)\n\u001b[1;32m      <a href='vscode-notebook-cell://wsl%2Bubuntu-20.04/home/nishi_gaku/EPR_git/EPR/various_B_0_polarization.ipynb#W6sdnNjb2RlLXJlbW90ZQ%3D%3D?line=5'>6</a>\u001b[0m     pol_l\u001b[39m.\u001b[39mappend(pol)\n",
      "\u001b[0;31mNameError\u001b[0m: name 'EPRshifts' is not defined"
     ]
    }
   ],
   "source": [
    "pol_l = []\n",
    "pol_dev_l = []\n",
    "\n",
    "for i in range(len(EPRshifts)):\n",
    "    pol, pol_dev = CalPol(EPRshifts[i], EPRshift_dev[i], B_0_G[i]/10**4)\n",
    "    pol_l.append(pol)\n",
    "    pol_dev_l.append(pol_dev)"
   ]
  },
  {
   "cell_type": "code",
   "execution_count": 10,
   "metadata": {},
   "outputs": [
    {
     "name": "stdout",
     "output_type": "stream",
     "text": [
      "0.49485866057978206\n",
      "0.2152559014892019\n"
     ]
    }
   ],
   "source": [
    "pol, pol_dev = CalPol(1721.9, 749.0, 16/10**4)\n",
    "print(pol)\n",
    "print(pol_dev)"
   ]
  },
  {
   "cell_type": "code",
   "execution_count": 5,
   "metadata": {},
   "outputs": [
    {
     "ename": "NameError",
     "evalue": "name 'plt' is not defined",
     "output_type": "error",
     "traceback": [
      "\u001b[0;31m---------------------------------------------------------------------------\u001b[0m",
      "\u001b[0;31mNameError\u001b[0m                                 Traceback (most recent call last)",
      "\u001b[1;32m/home/nishi_gaku/EPR_git/EPR/various_B_0_polarization.ipynb セル 9\u001b[0m in \u001b[0;36m<cell line: 2>\u001b[0;34m()\u001b[0m\n\u001b[1;32m      <a href='vscode-notebook-cell://wsl%2Bubuntu-20.04/home/nishi_gaku/EPR_git/EPR/various_B_0_polarization.ipynb#X11sdnNjb2RlLXJlbW90ZQ%3D%3D?line=0'>1</a>\u001b[0m \u001b[39m#plt.errorbar(B_0_G, pol_l, pol_dev_l, fmt=\".\", capsize=2)\u001b[39;00m\n\u001b[0;32m----> <a href='vscode-notebook-cell://wsl%2Bubuntu-20.04/home/nishi_gaku/EPR_git/EPR/various_B_0_polarization.ipynb#X11sdnNjb2RlLXJlbW90ZQ%3D%3D?line=1'>2</a>\u001b[0m plt\u001b[39m.\u001b[39merrorbar(B_0_G, pol_l, pol_dev_l, fmt\u001b[39m=\u001b[39m\u001b[39m\"\u001b[39m\u001b[39m.\u001b[39m\u001b[39m\"\u001b[39m, capsize\u001b[39m=\u001b[39m\u001b[39m2\u001b[39m, label\u001b[39m=\u001b[39m\u001b[39m\"\u001b[39m\u001b[39mday1\u001b[39m\u001b[39m\"\u001b[39m)\n\u001b[1;32m      <a href='vscode-notebook-cell://wsl%2Bubuntu-20.04/home/nishi_gaku/EPR_git/EPR/various_B_0_polarization.ipynb#X11sdnNjb2RlLXJlbW90ZQ%3D%3D?line=2'>3</a>\u001b[0m plt\u001b[39m.\u001b[39merrorbar(B_0_G[:\u001b[39m4\u001b[39m], pol_l[:\u001b[39m4\u001b[39m], pol_dev_l[:\u001b[39m4\u001b[39m], fmt\u001b[39m=\u001b[39m\u001b[39m\"\u001b[39m\u001b[39mr.\u001b[39m\u001b[39m\"\u001b[39m, capsize\u001b[39m=\u001b[39m\u001b[39m2\u001b[39m, label\u001b[39m=\u001b[39m\u001b[39m\"\u001b[39m\u001b[39mday2\u001b[39m\u001b[39m\"\u001b[39m)\n\u001b[1;32m      <a href='vscode-notebook-cell://wsl%2Bubuntu-20.04/home/nishi_gaku/EPR_git/EPR/various_B_0_polarization.ipynb#X11sdnNjb2RlLXJlbW90ZQ%3D%3D?line=3'>4</a>\u001b[0m plt\u001b[39m.\u001b[39mxlabel(\u001b[39m\"\u001b[39m\u001b[39m$B_0$ [G]\u001b[39m\u001b[39m\"\u001b[39m)\n",
      "\u001b[0;31mNameError\u001b[0m: name 'plt' is not defined"
     ]
    }
   ],
   "source": [
    "#plt.errorbar(B_0_G, pol_l, pol_dev_l, fmt=\".\", capsize=2)\n",
    "plt.errorbar(B_0_G, pol_l, pol_dev_l, fmt=\".\", capsize=2, label=\"day1\")\n",
    "plt.errorbar(B_0_G[:4], pol_l[:4], pol_dev_l[:4], fmt=\"r.\", capsize=2, label=\"day2\")\n",
    "plt.xlabel(\"$B_0$ [G]\")\n",
    "plt.ylabel(\"Xe polarization %\")\n",
    "plt.ylim(0., 2.)\n",
    "plt.grid()\n",
    "plt.legend()"
   ]
  },
  {
   "cell_type": "code",
   "execution_count": 6,
   "metadata": {},
   "outputs": [],
   "source": [
    "import statistics as stat"
   ]
  },
  {
   "cell_type": "code",
   "execution_count": 7,
   "metadata": {},
   "outputs": [
    {
     "ename": "StatisticsError",
     "evalue": "mean requires at least one data point",
     "output_type": "error",
     "traceback": [
      "\u001b[0;31m---------------------------------------------------------------------------\u001b[0m",
      "\u001b[0;31mStatisticsError\u001b[0m                           Traceback (most recent call last)",
      "\u001b[1;32m/home/nishi_gaku/EPR_git/EPR/various_B_0_polarization.ipynb セル 11\u001b[0m in \u001b[0;36m<cell line: 1>\u001b[0;34m()\u001b[0m\n\u001b[0;32m----> <a href='vscode-notebook-cell://wsl%2Bubuntu-20.04/home/nishi_gaku/EPR_git/EPR/various_B_0_polarization.ipynb#X13sdnNjb2RlLXJlbW90ZQ%3D%3D?line=0'>1</a>\u001b[0m \u001b[39mprint\u001b[39m(stat\u001b[39m.\u001b[39;49mmean(pol_l))\n\u001b[1;32m      <a href='vscode-notebook-cell://wsl%2Bubuntu-20.04/home/nishi_gaku/EPR_git/EPR/various_B_0_polarization.ipynb#X13sdnNjb2RlLXJlbW90ZQ%3D%3D?line=1'>2</a>\u001b[0m \u001b[39mprint\u001b[39m(stat\u001b[39m.\u001b[39mstdev(pol_l))\n",
      "File \u001b[0;32m/usr/lib/python3.8/statistics.py:315\u001b[0m, in \u001b[0;36mmean\u001b[0;34m(data)\u001b[0m\n\u001b[1;32m    313\u001b[0m n \u001b[39m=\u001b[39m \u001b[39mlen\u001b[39m(data)\n\u001b[1;32m    314\u001b[0m \u001b[39mif\u001b[39;00m n \u001b[39m<\u001b[39m \u001b[39m1\u001b[39m:\n\u001b[0;32m--> 315\u001b[0m     \u001b[39mraise\u001b[39;00m StatisticsError(\u001b[39m'\u001b[39m\u001b[39mmean requires at least one data point\u001b[39m\u001b[39m'\u001b[39m)\n\u001b[1;32m    316\u001b[0m T, total, count \u001b[39m=\u001b[39m _sum(data)\n\u001b[1;32m    317\u001b[0m \u001b[39massert\u001b[39;00m count \u001b[39m==\u001b[39m n\n",
      "\u001b[0;31mStatisticsError\u001b[0m: mean requires at least one data point"
     ]
    }
   ],
   "source": [
    "print(stat.mean(pol_l))\n",
    "print(stat.stdev(pol_l))"
   ]
  },
  {
   "cell_type": "code",
   "execution_count": null,
   "metadata": {},
   "outputs": [],
   "source": []
  }
 ],
 "metadata": {
  "kernelspec": {
   "display_name": "Python 3",
   "language": "python",
   "name": "python3"
  },
  "language_info": {
   "codemirror_mode": {
    "name": "ipython",
    "version": 3
   },
   "file_extension": ".py",
   "mimetype": "text/x-python",
   "name": "python",
   "nbconvert_exporter": "python",
   "pygments_lexer": "ipython3",
   "version": "3.8.10"
  },
  "orig_nbformat": 4
 },
 "nbformat": 4,
 "nbformat_minor": 2
}
