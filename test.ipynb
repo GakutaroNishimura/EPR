{
 "cells": [
  {
   "cell_type": "code",
   "execution_count": 1,
   "metadata": {},
   "outputs": [],
   "source": [
    "import pyvisa as visa"
   ]
  },
  {
   "cell_type": "code",
   "execution_count": 2,
   "metadata": {},
   "outputs": [],
   "source": [
    "rm = visa.ResourceManager()"
   ]
  },
  {
   "cell_type": "code",
   "execution_count": 4,
   "metadata": {},
   "outputs": [
    {
     "data": {
      "text/plain": [
       "('ASRL/dev/ttyS1::INSTR', 'ASRL/dev/ttyS0::INSTR')"
      ]
     },
     "execution_count": 4,
     "metadata": {},
     "output_type": "execute_result"
    }
   ],
   "source": [
    "rm.list_resources()"
   ]
  },
  {
   "cell_type": "code",
   "execution_count": 5,
   "metadata": {},
   "outputs": [
    {
     "ename": "SerialException",
     "evalue": "[Errno 13] could not open port /dev/ttyS1: [Errno 13] Permission denied: '/dev/ttyS1'",
     "output_type": "error",
     "traceback": [
      "\u001b[0;31m---------------------------------------------------------------------------\u001b[0m",
      "\u001b[0;31mPermissionError\u001b[0m                           Traceback (most recent call last)",
      "File \u001b[0;32m/usr/lib/python3/dist-packages/serial/serialposix.py:265\u001b[0m, in \u001b[0;36mSerial.open\u001b[0;34m(self)\u001b[0m\n\u001b[1;32m    264\u001b[0m \u001b[39mtry\u001b[39;00m:\n\u001b[0;32m--> 265\u001b[0m     \u001b[39mself\u001b[39m\u001b[39m.\u001b[39mfd \u001b[39m=\u001b[39m os\u001b[39m.\u001b[39;49mopen(\u001b[39mself\u001b[39;49m\u001b[39m.\u001b[39;49mportstr, os\u001b[39m.\u001b[39;49mO_RDWR \u001b[39m|\u001b[39;49m os\u001b[39m.\u001b[39;49mO_NOCTTY \u001b[39m|\u001b[39;49m os\u001b[39m.\u001b[39;49mO_NONBLOCK)\n\u001b[1;32m    266\u001b[0m \u001b[39mexcept\u001b[39;00m \u001b[39mOSError\u001b[39;00m \u001b[39mas\u001b[39;00m msg:\n",
      "\u001b[0;31mPermissionError\u001b[0m: [Errno 13] Permission denied: '/dev/ttyS1'",
      "\nDuring handling of the above exception, another exception occurred:\n",
      "\u001b[0;31mSerialException\u001b[0m                           Traceback (most recent call last)",
      "\u001b[1;32m/home/nishi_gaku/EPR/test.ipynb セル 4\u001b[0m in \u001b[0;36m<cell line: 1>\u001b[0;34m()\u001b[0m\n\u001b[0;32m----> <a href='vscode-notebook-cell://wsl%2Bubuntu-20.04/home/nishi_gaku/EPR/test.ipynb#W3sdnNjb2RlLXJlbW90ZQ%3D%3D?line=0'>1</a>\u001b[0m Osc \u001b[39m=\u001b[39m rm\u001b[39m.\u001b[39;49mopen_resource(\u001b[39m'\u001b[39;49m\u001b[39mASRL/dev/ttyS1::INSTR\u001b[39;49m\u001b[39m'\u001b[39;49m)\n",
      "File \u001b[0;32m~/.local/lib/python3.8/site-packages/pyvisa/highlevel.py:3284\u001b[0m, in \u001b[0;36mResourceManager.open_resource\u001b[0;34m(self, resource_name, access_mode, open_timeout, resource_pyclass, **kwargs)\u001b[0m\n\u001b[1;32m   3278\u001b[0m     \u001b[39mif\u001b[39;00m \u001b[39mnot\u001b[39;00m present:\n\u001b[1;32m   3279\u001b[0m         \u001b[39mraise\u001b[39;00m \u001b[39mValueError\u001b[39;00m(\n\u001b[1;32m   3280\u001b[0m             \u001b[39m\"\u001b[39m\u001b[39m%r\u001b[39;00m\u001b[39m is not a valid attribute for type \u001b[39m\u001b[39m%s\u001b[39;00m\u001b[39m\"\u001b[39m\n\u001b[1;32m   3281\u001b[0m             \u001b[39m%\u001b[39m (key, res\u001b[39m.\u001b[39m\u001b[39m__class__\u001b[39m\u001b[39m.\u001b[39m\u001b[39m__name__\u001b[39m)\n\u001b[1;32m   3282\u001b[0m         )\n\u001b[0;32m-> 3284\u001b[0m res\u001b[39m.\u001b[39;49mopen(access_mode, open_timeout)\n\u001b[1;32m   3286\u001b[0m \u001b[39mfor\u001b[39;00m key, value \u001b[39min\u001b[39;00m kwargs\u001b[39m.\u001b[39mitems():\n\u001b[1;32m   3287\u001b[0m     \u001b[39msetattr\u001b[39m(res, key, value)\n",
      "File \u001b[0;32m~/.local/lib/python3.8/site-packages/pyvisa/resources/resource.py:282\u001b[0m, in \u001b[0;36mResource.open\u001b[0;34m(self, access_mode, open_timeout)\u001b[0m\n\u001b[1;32m    278\u001b[0m logger\u001b[39m.\u001b[39mdebug(\u001b[39m\"\u001b[39m\u001b[39m%s\u001b[39;00m\u001b[39m - opening ...\u001b[39m\u001b[39m\"\u001b[39m, \u001b[39mself\u001b[39m\u001b[39m.\u001b[39m_resource_name, extra\u001b[39m=\u001b[39m\u001b[39mself\u001b[39m\u001b[39m.\u001b[39m_logging_extra)\n\u001b[1;32m    279\u001b[0m \u001b[39mwith\u001b[39;00m \u001b[39mself\u001b[39m\u001b[39m.\u001b[39m_resource_manager\u001b[39m.\u001b[39mignore_warning(\n\u001b[1;32m    280\u001b[0m     constants\u001b[39m.\u001b[39mStatusCode\u001b[39m.\u001b[39msuccess_device_not_present\n\u001b[1;32m    281\u001b[0m ):\n\u001b[0;32m--> 282\u001b[0m     \u001b[39mself\u001b[39m\u001b[39m.\u001b[39msession, status \u001b[39m=\u001b[39m \u001b[39mself\u001b[39;49m\u001b[39m.\u001b[39;49m_resource_manager\u001b[39m.\u001b[39;49mopen_bare_resource(\n\u001b[1;32m    283\u001b[0m         \u001b[39mself\u001b[39;49m\u001b[39m.\u001b[39;49m_resource_name, access_mode, open_timeout\n\u001b[1;32m    284\u001b[0m     )\n\u001b[1;32m    286\u001b[0m     \u001b[39mif\u001b[39;00m status \u001b[39m==\u001b[39m constants\u001b[39m.\u001b[39mStatusCode\u001b[39m.\u001b[39msuccess_device_not_present:\n\u001b[1;32m    287\u001b[0m         \u001b[39m# The device was not ready when we opened the session.\u001b[39;00m\n\u001b[1;32m    288\u001b[0m         \u001b[39m# Now it gets five seconds more to become ready.\u001b[39;00m\n\u001b[1;32m    289\u001b[0m         \u001b[39m# Every 0.1 seconds we probe it with viClear.\u001b[39;00m\n\u001b[1;32m    290\u001b[0m         start_time \u001b[39m=\u001b[39m time\u001b[39m.\u001b[39mtime()\n",
      "File \u001b[0;32m~/.local/lib/python3.8/site-packages/pyvisa/highlevel.py:3209\u001b[0m, in \u001b[0;36mResourceManager.open_bare_resource\u001b[0;34m(self, resource_name, access_mode, open_timeout)\u001b[0m\n\u001b[1;32m   3180\u001b[0m \u001b[39mdef\u001b[39;00m \u001b[39mopen_bare_resource\u001b[39m(\n\u001b[1;32m   3181\u001b[0m     \u001b[39mself\u001b[39m,\n\u001b[1;32m   3182\u001b[0m     resource_name: \u001b[39mstr\u001b[39m,\n\u001b[1;32m   3183\u001b[0m     access_mode: constants\u001b[39m.\u001b[39mAccessModes \u001b[39m=\u001b[39m constants\u001b[39m.\u001b[39mAccessModes\u001b[39m.\u001b[39mno_lock,\n\u001b[1;32m   3184\u001b[0m     open_timeout: \u001b[39mint\u001b[39m \u001b[39m=\u001b[39m constants\u001b[39m.\u001b[39mVI_TMO_IMMEDIATE,\n\u001b[1;32m   3185\u001b[0m ) \u001b[39m-\u001b[39m\u001b[39m>\u001b[39m Tuple[VISASession, StatusCode]:\n\u001b[1;32m   3186\u001b[0m     \u001b[39m\"\"\"Open the specified resource without wrapping into a class.\u001b[39;00m\n\u001b[1;32m   3187\u001b[0m \n\u001b[1;32m   3188\u001b[0m \u001b[39m    Parameters\u001b[39;00m\n\u001b[0;32m   (...)\u001b[0m\n\u001b[1;32m   3207\u001b[0m \n\u001b[1;32m   3208\u001b[0m \u001b[39m    \"\"\"\u001b[39;00m\n\u001b[0;32m-> 3209\u001b[0m     \u001b[39mreturn\u001b[39;00m \u001b[39mself\u001b[39;49m\u001b[39m.\u001b[39;49mvisalib\u001b[39m.\u001b[39;49mopen(\u001b[39mself\u001b[39;49m\u001b[39m.\u001b[39;49msession, resource_name, access_mode, open_timeout)\n",
      "File \u001b[0;32m~/.local/lib/python3.8/site-packages/pyvisa_py/highlevel.py:167\u001b[0m, in \u001b[0;36mPyVisaLibrary.open\u001b[0;34m(self, session, resource_name, access_mode, open_timeout)\u001b[0m\n\u001b[1;32m    158\u001b[0m     \u001b[39mreturn\u001b[39;00m (\n\u001b[1;32m    159\u001b[0m         VISASession(\u001b[39m0\u001b[39m),\n\u001b[1;32m    160\u001b[0m         \u001b[39mself\u001b[39m\u001b[39m.\u001b[39mhandle_return_value(\u001b[39mNone\u001b[39;00m, StatusCode\u001b[39m.\u001b[39merror_invalid_resource_name),\n\u001b[1;32m    161\u001b[0m     )\n\u001b[1;32m    163\u001b[0m \u001b[39mcls\u001b[39m \u001b[39m=\u001b[39m sessions\u001b[39m.\u001b[39mSession\u001b[39m.\u001b[39mget_session_class(\n\u001b[1;32m    164\u001b[0m     parsed\u001b[39m.\u001b[39minterface_type_const, parsed\u001b[39m.\u001b[39mresource_class\n\u001b[1;32m    165\u001b[0m )\n\u001b[0;32m--> 167\u001b[0m sess \u001b[39m=\u001b[39m \u001b[39mcls\u001b[39;49m(session, resource_name, parsed, open_timeout)\n\u001b[1;32m    169\u001b[0m \u001b[39mreturn\u001b[39;00m \u001b[39mself\u001b[39m\u001b[39m.\u001b[39m_register(sess), StatusCode\u001b[39m.\u001b[39msuccess\n",
      "File \u001b[0;32m~/.local/lib/python3.8/site-packages/pyvisa_py/sessions.py:324\u001b[0m, in \u001b[0;36mSession.__init__\u001b[0;34m(self, resource_manager_session, resource_name, parsed, open_timeout)\u001b[0m\n\u001b[1;32m    321\u001b[0m default_timeout \u001b[39m=\u001b[39m attributes\u001b[39m.\u001b[39mAttributesByID[attr]\u001b[39m.\u001b[39mdefault\n\u001b[1;32m    322\u001b[0m \u001b[39mself\u001b[39m\u001b[39m.\u001b[39mset_attribute(attr, default_timeout)\n\u001b[0;32m--> 324\u001b[0m \u001b[39mself\u001b[39;49m\u001b[39m.\u001b[39;49mafter_parsing()\n",
      "File \u001b[0;32m~/.local/lib/python3.8/site-packages/pyvisa_py/serial.py:89\u001b[0m, in \u001b[0;36mSerialSession.after_parsing\u001b[0;34m(self)\u001b[0m\n\u001b[1;32m     86\u001b[0m \u001b[39mdef\u001b[39;00m \u001b[39mafter_parsing\u001b[39m(\u001b[39mself\u001b[39m) \u001b[39m-\u001b[39m\u001b[39m>\u001b[39m \u001b[39mNone\u001b[39;00m:\n\u001b[1;32m     87\u001b[0m     \u001b[39mcls\u001b[39m \u001b[39m=\u001b[39m serial\u001b[39m.\u001b[39mSerial\n\u001b[0;32m---> 89\u001b[0m     \u001b[39mself\u001b[39m\u001b[39m.\u001b[39minterface \u001b[39m=\u001b[39m \u001b[39mcls\u001b[39;49m(\n\u001b[1;32m     90\u001b[0m         port\u001b[39m=\u001b[39;49m(\u001b[39m\"\u001b[39;49m\u001b[39mCOM\u001b[39;49m\u001b[39m\"\u001b[39;49m \u001b[39mif\u001b[39;49;00m IS_WIN \u001b[39melse\u001b[39;49;00m \u001b[39m\"\u001b[39;49m\u001b[39m\"\u001b[39;49m) \u001b[39m+\u001b[39;49m \u001b[39mself\u001b[39;49m\u001b[39m.\u001b[39;49mparsed\u001b[39m.\u001b[39;49mboard,\n\u001b[1;32m     91\u001b[0m         timeout\u001b[39m=\u001b[39;49m\u001b[39mself\u001b[39;49m\u001b[39m.\u001b[39;49mtimeout,\n\u001b[1;32m     92\u001b[0m         write_timeout\u001b[39m=\u001b[39;49m\u001b[39mself\u001b[39;49m\u001b[39m.\u001b[39;49mtimeout,\n\u001b[1;32m     93\u001b[0m     )\n\u001b[1;32m     95\u001b[0m     \u001b[39mfor\u001b[39;00m name \u001b[39min\u001b[39;00m (\n\u001b[1;32m     96\u001b[0m         \u001b[39m\"\u001b[39m\u001b[39mASRL_END_IN\u001b[39m\u001b[39m\"\u001b[39m,\n\u001b[1;32m     97\u001b[0m         \u001b[39m\"\u001b[39m\u001b[39mASRL_END_OUT\u001b[39m\u001b[39m\"\u001b[39m,\n\u001b[0;32m   (...)\u001b[0m\n\u001b[1;32m    101\u001b[0m         \u001b[39m\"\u001b[39m\u001b[39mSUPPRESS_END_EN\u001b[39m\u001b[39m\"\u001b[39m,\n\u001b[1;32m    102\u001b[0m     ):\n\u001b[1;32m    103\u001b[0m         attribute \u001b[39m=\u001b[39m \u001b[39mgetattr\u001b[39m(constants, \u001b[39m\"\u001b[39m\u001b[39mVI_ATTR_\u001b[39m\u001b[39m\"\u001b[39m \u001b[39m+\u001b[39m name)\n",
      "File \u001b[0;32m/usr/lib/python3/dist-packages/serial/serialutil.py:240\u001b[0m, in \u001b[0;36mSerialBase.__init__\u001b[0;34m(self, port, baudrate, bytesize, parity, stopbits, timeout, xonxoff, rtscts, write_timeout, dsrdtr, inter_byte_timeout, exclusive, **kwargs)\u001b[0m\n\u001b[1;32m    237\u001b[0m     \u001b[39mraise\u001b[39;00m \u001b[39mValueError\u001b[39;00m(\u001b[39m'\u001b[39m\u001b[39munexpected keyword arguments: \u001b[39m\u001b[39m{!r}\u001b[39;00m\u001b[39m'\u001b[39m\u001b[39m.\u001b[39mformat(kwargs))\n\u001b[1;32m    239\u001b[0m \u001b[39mif\u001b[39;00m port \u001b[39mis\u001b[39;00m \u001b[39mnot\u001b[39;00m \u001b[39mNone\u001b[39;00m:\n\u001b[0;32m--> 240\u001b[0m     \u001b[39mself\u001b[39;49m\u001b[39m.\u001b[39;49mopen()\n",
      "File \u001b[0;32m/usr/lib/python3/dist-packages/serial/serialposix.py:268\u001b[0m, in \u001b[0;36mSerial.open\u001b[0;34m(self)\u001b[0m\n\u001b[1;32m    266\u001b[0m \u001b[39mexcept\u001b[39;00m \u001b[39mOSError\u001b[39;00m \u001b[39mas\u001b[39;00m msg:\n\u001b[1;32m    267\u001b[0m     \u001b[39mself\u001b[39m\u001b[39m.\u001b[39mfd \u001b[39m=\u001b[39m \u001b[39mNone\u001b[39;00m\n\u001b[0;32m--> 268\u001b[0m     \u001b[39mraise\u001b[39;00m SerialException(msg\u001b[39m.\u001b[39merrno, \u001b[39m\"\u001b[39m\u001b[39mcould not open port \u001b[39m\u001b[39m{}\u001b[39;00m\u001b[39m: \u001b[39m\u001b[39m{}\u001b[39;00m\u001b[39m\"\u001b[39m\u001b[39m.\u001b[39mformat(\u001b[39mself\u001b[39m\u001b[39m.\u001b[39m_port, msg))\n\u001b[1;32m    269\u001b[0m \u001b[39m#~ fcntl.fcntl(self.fd, fcntl.F_SETFL, 0)  # set blocking\u001b[39;00m\n\u001b[1;32m    271\u001b[0m \u001b[39mtry\u001b[39;00m:\n",
      "\u001b[0;31mSerialException\u001b[0m: [Errno 13] could not open port /dev/ttyS1: [Errno 13] Permission denied: '/dev/ttyS1'"
     ]
    }
   ],
   "source": [
    "Osc = rm.open_resource('ASRL/dev/ttyS1::INSTR')"
   ]
  },
  {
   "cell_type": "code",
   "execution_count": 2,
   "metadata": {},
   "outputs": [
    {
     "data": {
      "text/plain": [
       "[1, 2, 3, 4]"
      ]
     },
     "execution_count": 2,
     "metadata": {},
     "output_type": "execute_result"
    }
   ],
   "source": [
    "a = [1, 2, 3, 4, 5]\n",
    "b = a[1:]\n",
    "c = a[:-1]\n",
    "c"
   ]
  },
  {
   "cell_type": "code",
   "execution_count": 2,
   "metadata": {},
   "outputs": [
    {
     "data": {
      "text/plain": [
       "array([ 1.,  2.,  3.,  4.,  5.,  6.,  7.,  8.,  9., 10.])"
      ]
     },
     "execution_count": 2,
     "metadata": {},
     "output_type": "execute_result"
    }
   ],
   "source": [
    "import numpy as np\n",
    "a = np.linspace(1, 10, 10)\n",
    "a"
   ]
  },
  {
   "cell_type": "code",
   "execution_count": 12,
   "metadata": {},
   "outputs": [],
   "source": [
    "import pandas as pd\n",
    "df = pd.read_csv(\"WaveData/scope_120.csv\", names = [\"time\", \"signal\", \"sync\"], skiprows=2, skipfooter=1, engine=\"python\")"
   ]
  },
  {
   "cell_type": "code",
   "execution_count": 13,
   "metadata": {},
   "outputs": [
    {
     "data": {
      "text/plain": [
       "[0.002932349,\n",
       " 0.002932827,\n",
       " 0.002927374,\n",
       " 0.002930565,\n",
       " 0.002929234,\n",
       " 0.002930088,\n",
       " 0.002931018,\n",
       " 0.002932249,\n",
       " 0.002928731,\n",
       " 0.002931118]"
      ]
     },
     "execution_count": 13,
     "metadata": {},
     "output_type": "execute_result"
    }
   ],
   "source": [
    "[i for i in df.signal[:10]]"
   ]
  },
  {
   "cell_type": "code",
   "execution_count": 14,
   "metadata": {},
   "outputs": [
    {
     "data": {
      "text/plain": [
       "[2.85e-05,\n",
       " 2.86e-05,\n",
       " 2.87e-05,\n",
       " 2.88e-05,\n",
       " 2.89e-05,\n",
       " 2.9e-05,\n",
       " 2.91e-05,\n",
       " 2.92e-05,\n",
       " 2.93e-05,\n",
       " 2.94e-05]"
      ]
     },
     "execution_count": 14,
     "metadata": {},
     "output_type": "execute_result"
    }
   ],
   "source": [
    "[i for i in df.time[:10]]"
   ]
  },
  {
   "cell_type": "code",
   "execution_count": 15,
   "metadata": {},
   "outputs": [
    {
     "data": {
      "text/plain": [
       "[0.002805345,\n",
       " 0.002797793,\n",
       " 0.002791018,\n",
       " 0.002794968,\n",
       " 0.002797299,\n",
       " 0.002811442,\n",
       " 0.002814065,\n",
       " 0.002809906,\n",
       " 0.002811118]"
      ]
     },
     "execution_count": 15,
     "metadata": {},
     "output_type": "execute_result"
    }
   ],
   "source": [
    "[i for i in df.signal[-10:-1]]"
   ]
  },
  {
   "cell_type": "code",
   "execution_count": 16,
   "metadata": {},
   "outputs": [
    {
     "data": {
      "text/plain": [
       "[0.0002274,\n",
       " 0.0002275,\n",
       " 0.0002276,\n",
       " 0.0002277,\n",
       " 0.0002278,\n",
       " 0.0002279,\n",
       " 0.000228,\n",
       " 0.0002281,\n",
       " 0.0002282]"
      ]
     },
     "execution_count": 16,
     "metadata": {},
     "output_type": "execute_result"
    }
   ],
   "source": [
    "[i for i in df.time[-10:-1]]"
   ]
  },
  {
   "cell_type": "code",
   "execution_count": 17,
   "metadata": {},
   "outputs": [
    {
     "data": {
      "text/plain": [
       "1999"
      ]
     },
     "execution_count": 17,
     "metadata": {},
     "output_type": "execute_result"
    }
   ],
   "source": [
    "len(df.time)"
   ]
  },
  {
   "cell_type": "code",
   "execution_count": 18,
   "metadata": {},
   "outputs": [
    {
     "data": {
      "text/plain": [
       "1999"
      ]
     },
     "execution_count": 18,
     "metadata": {},
     "output_type": "execute_result"
    }
   ],
   "source": [
    "len(df.signal)"
   ]
  },
  {
   "cell_type": "code",
   "execution_count": 19,
   "metadata": {},
   "outputs": [
    {
     "data": {
      "text/plain": [
       "[0.0002274,\n",
       " 0.0002275,\n",
       " 0.0002276,\n",
       " 0.0002277,\n",
       " 0.0002278,\n",
       " 0.0002279,\n",
       " 0.000228,\n",
       " 0.0002281,\n",
       " 0.0002282,\n",
       " 0.0002283]"
      ]
     },
     "execution_count": 19,
     "metadata": {},
     "output_type": "execute_result"
    }
   ],
   "source": [
    "[i for i in df.time.tail(10)]"
   ]
  },
  {
   "cell_type": "code",
   "execution_count": 20,
   "metadata": {},
   "outputs": [
    {
     "data": {
      "text/plain": [
       "[0.002805345,\n",
       " 0.002797793,\n",
       " 0.002791018,\n",
       " 0.002794968,\n",
       " 0.002797299,\n",
       " 0.002811442,\n",
       " 0.002814065,\n",
       " 0.002809906,\n",
       " 0.002811118,\n",
       " 0.002816302]"
      ]
     },
     "execution_count": 20,
     "metadata": {},
     "output_type": "execute_result"
    }
   ],
   "source": [
    "[i for i in df.signal.tail(10)]"
   ]
  },
  {
   "cell_type": "code",
   "execution_count": null,
   "metadata": {},
   "outputs": [],
   "source": []
  }
 ],
 "metadata": {
  "kernelspec": {
   "display_name": "base",
   "language": "python",
   "name": "python3"
  },
  "language_info": {
   "codemirror_mode": {
    "name": "ipython",
    "version": 3
   },
   "file_extension": ".py",
   "mimetype": "text/x-python",
   "name": "python",
   "nbconvert_exporter": "python",
   "pygments_lexer": "ipython3",
   "version": "3.10.6"
  },
  "orig_nbformat": 4
 },
 "nbformat": 4,
 "nbformat_minor": 2
}
