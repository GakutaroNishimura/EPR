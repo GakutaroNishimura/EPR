{
 "cells": [
  {
   "cell_type": "code",
   "execution_count": 1,
   "metadata": {},
   "outputs": [],
   "source": [
    "import numpy as np\n",
    "import matplotlib.pyplot as plt"
   ]
  },
  {
   "attachments": {},
   "cell_type": "markdown",
   "metadata": {},
   "source": [
    "描きたいのは偏極率の温度依存性だから...\n",
    "$$P_{\\mathrm{Xe}} = \\left \\langle P_{\\mathrm{Rb}}(z,r) \\right\\rangle\\cdot \\left (\\frac{\\gamma_{\\mathrm{SE}}}{\\gamma_{\\mathrm{SE}}+\\Gamma_{\\mathrm{Xe}}}\\right )\\cdot \\{1-\\mathrm{exp}[-(\\gamma_{\\mathrm{SE}}+\\Gamma_{\\mathrm{Xe}})t]\\}$$\n",
    "の温度依存性。\n",
    "\n",
    "$$\\begin{split}\\gamma_{\\mathrm{SE}} &= [\\mathrm{Rb}]_{\\mathrm{cell}}\\cdot \\left \\{{\\frac{\\gamma_{\\mathrm{RbXe}}}{[\\mathrm{Xe}]_{\\mathrm{cell}}}} \\left ( \\frac{1}{1+br} \\right ) +  \\left \\langle \\sigma v\\right \\rangle\\right \\} \\\\ \n",
    "&= [\\mathrm{Rb}]_{\\mathrm{cell}}\\cdot \\gamma ' \\end{split}$$\n",
    "で、このうち温度依存するのは$[\\mathrm{Rb}]_{\\mathrm{cell}}$のみとなっている。\n",
    "\n",
    "また、$\\Gamma_{\\mathrm{Xe}}$は壁や磁場一様性を表す量で、温度依存する（温度で平均速度が変わりセル内壁との衝突回数が増える）"
   ]
  },
  {
   "cell_type": "code",
   "execution_count": 18,
   "metadata": {},
   "outputs": [
    {
     "data": {
      "text/plain": [
       "1038.3882783882784"
      ]
     },
     "execution_count": 18,
     "metadata": {},
     "output_type": "execute_result"
    }
   ],
   "source": [
    "T = 100 #[℃]\n",
    "T = T+273\n",
    "\n",
    "p_Xe = (T)/273*760 #[torr]\n",
    "p_N2 = 100 #[torr]\n",
    "br = 0.275*p_N2/p_Xe\n",
    "p_Xe"
   ]
  },
  {
   "cell_type": "code",
   "execution_count": 19,
   "metadata": {},
   "outputs": [
    {
     "data": {
      "text/plain": [
       "5761600993506.826"
      ]
     },
     "execution_count": 19,
     "metadata": {},
     "output_type": "execute_result"
    }
   ],
   "source": [
    "N_Rb = 10**(26.41-4132/T-np.log10(T))\n",
    "N_Rb"
   ]
  },
  {
   "cell_type": "code",
   "execution_count": 30,
   "metadata": {},
   "outputs": [
    {
     "data": {
      "text/plain": [
       "0.48562300319488816"
      ]
     },
     "execution_count": 30,
     "metadata": {},
     "output_type": "execute_result"
    }
   ],
   "source": [
    "p_Xe = 1400\n",
    "p_N2 = 2000-p_Xe\n",
    "br = 0.275*p_N2/p_Xe\n",
    "Pa_inv = (760/p_Xe)/(1+br)\n",
    "Pa_inv"
   ]
  },
  {
   "cell_type": "code",
   "execution_count": 31,
   "metadata": {},
   "outputs": [
    {
     "data": {
      "text/plain": [
       "0.009218561589610923"
      ]
     },
     "execution_count": 31,
     "metadata": {},
     "output_type": "execute_result"
    }
   ],
   "source": [
    "1.6*10**(-15)*N_Rb"
   ]
  },
  {
   "cell_type": "code",
   "execution_count": null,
   "metadata": {},
   "outputs": [],
   "source": [
    "s"
   ]
  }
 ],
 "metadata": {
  "kernelspec": {
   "display_name": "Python 3",
   "language": "python",
   "name": "python3"
  },
  "language_info": {
   "codemirror_mode": {
    "name": "ipython",
    "version": 3
   },
   "file_extension": ".py",
   "mimetype": "text/x-python",
   "name": "python",
   "nbconvert_exporter": "python",
   "pygments_lexer": "ipython3",
   "version": "3.10.6"
  },
  "orig_nbformat": 4
 },
 "nbformat": 4,
 "nbformat_minor": 2
}
